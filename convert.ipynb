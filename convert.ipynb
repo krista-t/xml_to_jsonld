{
 "cells": [
  {
   "cell_type": "code",
   "execution_count": 1,
   "metadata": {},
   "outputs": [
    {
     "name": "stdout",
     "output_type": "stream",
     "text": [
      "Requirement already satisfied: rdflib in /Users/krista/.pyenv/versions/3.12.8/lib/python3.12/site-packages (7.1.3)\n",
      "Requirement already satisfied: pyparsing<4,>=2.1.0 in /Users/krista/.pyenv/versions/3.12.8/lib/python3.12/site-packages (from rdflib) (3.2.1)\n",
      "Note: you may need to restart the kernel to use updated packages.\n"
     ]
    }
   ],
   "source": [
    "%pip install rdflib\n",
    "\n",
    "import os\n",
    "import rdflib\n",
    "from rdflib import Graph\n",
    "import json"
   ]
  },
  {
   "cell_type": "code",
   "execution_count": 2,
   "metadata": {},
   "outputs": [],
   "source": [
    "import rdflib\n",
    "from rdflib import Graph, Namespace\n",
    "import json\n",
    "import os\n",
    "import re\n",
    "\n",
    "def convert_xml_to_jsonld(input_data, output_file=None):\n",
    "    \"\"\"\n",
    "    Convert XML to JSON-LD using rdflib, preserving only namespaces\n",
    "    declared in the XML file\n",
    "    \n",
    "    Args:\n",
    "        input_data: Either a filename (string) or XML content\n",
    "        output_file: Optional filename to save the result\n",
    "        \n",
    "    Returns:\n",
    "        JSON-LD as a Python dictionary\n",
    "    \"\"\"\n",
    "    # Load XML content\n",
    "    if isinstance(input_data, str):\n",
    "        if os.path.isfile(input_data):\n",
    "            # Input is a file path\n",
    "            try:\n",
    "                with open(input_data, 'r', encoding='utf-8') as f:\n",
    "                    content = f.read()\n",
    "            except Exception as e:\n",
    "                print(f\"Error reading file: {e}\")\n",
    "                return None\n",
    "        elif '<rdf:RDF' in input_data or '<?xml' in input_data:\n",
    "            # Input is XML content string\n",
    "            content = input_data\n",
    "        else:\n",
    "            print(f\"Input doesn't appear to be a valid file path or XML content\")\n",
    "            return None\n",
    "    else:\n",
    "        print(f\"Input must be a file path or XML content string\")\n",
    "        return None\n",
    "    \n",
    "    # Extract namespaces from the XML\n",
    "    namespaces = {}\n",
    "    ns_pattern = r'xmlns:([a-zA-Z0-9]+)=\"([^\"]+)\"'\n",
    "    for match in re.finditer(ns_pattern, content):\n",
    "        prefix, uri = match.groups()\n",
    "        namespaces[prefix] = uri\n",
    "    \n",
    "    print(f\"Extracted {len(namespaces)} namespaces from XML: {list(namespaces.keys())}\")\n",
    "    \n",
    "    # Fix missing adms namespace if needed\n",
    "    if 'adms:' in content and 'adms' not in namespaces:\n",
    "        print(\"Found adms: references but no adms namespace declaration\")\n",
    "        if '<rdf:RDF' in content:\n",
    "            content = content.replace(\n",
    "                '<rdf:RDF ',\n",
    "                '<rdf:RDF xmlns:adms=\"http://www.w3.org/ns/adms#\" '\n",
    "            )\n",
    "            namespaces['adms'] = \"http://www.w3.org/ns/adms#\"\n",
    "            print(\"Added missing adms namespace\")\n",
    "    \n",
    "    # Parse the content\n",
    "    g = Graph()\n",
    "    try:\n",
    "        g.parse(data=content, format=\"xml\")\n",
    "        print(f\"Successfully parsed XML with {len(g)} triples\")\n",
    "    except Exception as e:\n",
    "        print(f\"Error parsing XML: {e}\")\n",
    "        return None\n",
    "    \n",
    "    # Bind only namespaces found in the source XML\n",
    "    for prefix, uri in namespaces.items():\n",
    "        g.bind(prefix, Namespace(uri))\n",
    "    \n",
    "    # Create context using only namespaces from the source XML\n",
    "    context = dict(namespaces)\n",
    "    \n",
    "    # Serialize to JSON-LD\n",
    "    try:\n",
    "        jsonld_data = g.serialize(format=\"json-ld\", context=context, indent=2)\n",
    "        result = json.loads(jsonld_data)\n",
    "        \n",
    "        # Save to file if requested\n",
    "        if output_file:\n",
    "            with open(output_file, 'w', encoding='utf-8') as f:\n",
    "                json.dump(result, f, ensure_ascii=False, indent=2)\n",
    "            print(f\"JSON-LD data written to {output_file}\")\n",
    "        \n",
    "        return result\n",
    "    except Exception as e:\n",
    "        print(f\"Error serializing to JSON-LD: {e}\")\n",
    "        return None"
   ]
  },
  {
   "cell_type": "code",
   "execution_count": 8,
   "metadata": {},
   "outputs": [],
   "source": [
    "from rdflib import Graph, Namespace"
   ]
  },
  {
   "cell_type": "code",
   "execution_count": 11,
   "metadata": {},
   "outputs": [],
   "source": [
    "g = Graph()"
   ]
  },
  {
   "cell_type": "code",
   "execution_count": 12,
   "metadata": {},
   "outputs": [
    {
     "data": {
      "text/plain": [
       "<Graph identifier=Nc46ce1ba71044b42971a4395bb0265ae (<class 'rdflib.graph.Graph'>)>"
      ]
     },
     "execution_count": 12,
     "metadata": {},
     "output_type": "execute_result"
    }
   ],
   "source": [
    "g.parse(\"/Users/krista/Development/repos/nordic44/xml_jsonld_converter/Enterprise/N44-ENT-Scheider_AC.xml\")"
   ]
  },
  {
   "cell_type": "code",
   "execution_count": 16,
   "metadata": {},
   "outputs": [],
   "source": [
    "g.bind(\"adms\", Namespace(\"http://www.w3.org/ns/adms#\"))\n",
    "g.bind(\"dct\", Namespace(\"http://purl.org/dc/terms/\"))\n",
    "g.bind(\"dct\", Namespace(\"http://purl.org/dc/terms/\"))\n",
    "g.bind(\"foaf\", Namespace(\"http://xmlns.com/foaf/0.1/\"))\n",
    "g.bind(\"owl\", Namespace(\"http://www.w3.org/2002/07/owl#\"))\n",
    "g.bind(\"rdf\", Namespace(\"http://www.w3.org/1999/02/22-rdf-syntax-ns#\"))\n",
    "g.bind(\"rdfs\", Namespace(\"http://www.w3.org/2000/01/rdf-schema#\"))\n",
    "g.bind(\"cim\", Namespace(\"http://iec.ch/TC57/CIM/CIM100#\"))"
   ]
  },
  {
   "cell_type": "code",
   "execution_count": 17,
   "metadata": {},
   "outputs": [
    {
     "data": {
      "text/plain": [
       "<Graph identifier=Nc46ce1ba71044b42971a4395bb0265ae (<class 'rdflib.graph.Graph'>)>"
      ]
     },
     "execution_count": 17,
     "metadata": {},
     "output_type": "execute_result"
    }
   ],
   "source": [
    "g.serialize(\"N44-ENT-Scheider_AC.ttl\")"
   ]
  },
  {
   "cell_type": "code",
   "execution_count": 19,
   "metadata": {},
   "outputs": [
    {
     "data": {
      "text/plain": [
       "<Graph identifier=Nc46ce1ba71044b42971a4395bb0265ae (<class 'rdflib.graph.Graph'>)>"
      ]
     },
     "execution_count": 19,
     "metadata": {},
     "output_type": "execute_result"
    }
   ],
   "source": [
    "g.serialize(\"N44-ENT-Scheider_AC_simple.jsonld\", format=\"json-ld\")"
   ]
  },
  {
   "cell_type": "code",
   "execution_count": 7,
   "metadata": {},
   "outputs": [
    {
     "name": "stdout",
     "output_type": "stream",
     "text": [
      "Extracted 4 namespaces from XML: ['cim', 'eu', 'md', 'rdf']\n",
      "Successfully parsed XML with 15095 triples\n",
      "JSON-LD data written to Nordic44-HV_EQ.jsonld\n"
     ]
    }
   ],
   "source": [
    "\n",
    "xml_file_path = \"Nordic44-HV_EQ.xml\"\n",
    "output_file = \"Nordic44-HV_EQ.jsonld\"\n",
    "\n",
    "# Convert XML to JSON-LD\n",
    "result = convert_xml_to_jsonld(xml_file_path, output_file)\n",
    "\n",
    "\n"
   ]
  },
  {
   "cell_type": "code",
   "execution_count": null,
   "metadata": {},
   "outputs": [],
   "source": []
  }
 ],
 "metadata": {
  "kernelspec": {
   "display_name": "Python 3",
   "language": "python",
   "name": "python3"
  },
  "language_info": {
   "codemirror_mode": {
    "name": "ipython",
    "version": 3
   },
   "file_extension": ".py",
   "mimetype": "text/x-python",
   "name": "python",
   "nbconvert_exporter": "python",
   "pygments_lexer": "ipython3",
   "version": "3.12.8"
  }
 },
 "nbformat": 4,
 "nbformat_minor": 2
}
